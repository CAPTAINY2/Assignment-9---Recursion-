{
  "nbformat": 4,
  "nbformat_minor": 0,
  "metadata": {
    "colab": {
      "provenance": [],
      "authorship_tag": "ABX9TyOpxmswwsby/zXxcAeuruTI",
      "include_colab_link": true
    },
    "kernelspec": {
      "name": "python3",
      "display_name": "Python 3"
    },
    "language_info": {
      "name": "python"
    }
  },
  "cells": [
    {
      "cell_type": "markdown",
      "metadata": {
        "id": "view-in-github",
        "colab_type": "text"
      },
      "source": [
        "<a href=\"https://colab.research.google.com/github/CAPTAINY2/Assignment-9---Recursion-/blob/main/Assignment_Questions_9.ipynb\" target=\"_parent\"><img src=\"https://colab.research.google.com/assets/colab-badge.svg\" alt=\"Open In Colab\"/></a>"
      ]
    },
    {
      "cell_type": "markdown",
      "source": [
        "### QUESTION-1"
      ],
      "metadata": {
        "id": "30FiKD0kM1cA"
      }
    },
    {
      "cell_type": "code",
      "execution_count": 19,
      "metadata": {
        "colab": {
          "base_uri": "https://localhost:8080/"
        },
        "id": "i7Aa1sQo1H_t",
        "outputId": "a3b523d5-f908-47a0-f3c7-042d4891d626"
      },
      "outputs": [
        {
          "output_type": "stream",
          "name": "stdout",
          "text": [
            "Input: n=1\n",
            "Output:True\n",
            "Input: n=16\n",
            "Output:True\n",
            "Input: n=3\n",
            "Output:False\n"
          ]
        }
      ],
      "source": [
        "def power(n):\n",
        "    if n <= 0:\n",
        "        return False\n",
        "    return (n & (n - 1)) == 0\n",
        "    \n",
        "\n",
        "print(f\"Input: n=1\")\n",
        "print(f\"Output:{power(1)}\")\n",
        "\n",
        "print(f\"Input: n=16\")\n",
        "print(f\"Output:{power(16)}\") \n",
        "\n",
        "print(f\"Input: n=3\")\n",
        "print(f\"Output:{power(3)}\")\n",
        "\n",
        "\n"
      ]
    },
    {
      "cell_type": "markdown",
      "source": [
        "### QUESTION-2"
      ],
      "metadata": {
        "id": "BCb4aSU9M67U"
      }
    },
    {
      "cell_type": "code",
      "source": [
        "def sum(n):\n",
        "    return (n * (n + 1)) // 2\n",
        "\n",
        "print(f\"Input: n=3\")\n",
        "print(f\"Output:{sum(3)}\")\n",
        "\n",
        "print(f\"Input: n=5\")\n",
        "print(f\"Output:{sum(5)}\")\n"
      ],
      "metadata": {
        "colab": {
          "base_uri": "https://localhost:8080/"
        },
        "id": "CYVpEOqG1rbE",
        "outputId": "8d340032-b761-4838-b720-d6721602c257"
      },
      "execution_count": 22,
      "outputs": [
        {
          "output_type": "stream",
          "name": "stdout",
          "text": [
            "Input: n=3\n",
            "Output:6\n",
            "Input: n=5\n",
            "Output:15\n"
          ]
        }
      ]
    },
    {
      "cell_type": "markdown",
      "source": [
        "### QUESTION-3"
      ],
      "metadata": {
        "id": "b6DUIJvtNHRv"
      }
    },
    {
      "cell_type": "code",
      "source": [
        "def factorial(n):\n",
        "    if n == 0 or n == 1:\n",
        "        return 1\n",
        "    else:\n",
        "        return n * factorial(n - 1)\n",
        "\n",
        "print(f\"Factorial of (5): {factorial(5)}\") \n",
        "print(f\"Factorial of (4): {factorial(4)}\")  \n"
      ],
      "metadata": {
        "colab": {
          "base_uri": "https://localhost:8080/"
        },
        "id": "w7hqOn7g4YY8",
        "outputId": "dfcfebae-7948-4b30-f229-54cc0982c1e0"
      },
      "execution_count": 27,
      "outputs": [
        {
          "output_type": "stream",
          "name": "stdout",
          "text": [
            "Factorial of (5): 120\n",
            "Factorial of (4): 24\n"
          ]
        }
      ]
    },
    {
      "cell_type": "markdown",
      "source": [
        "### QUESTION-4"
      ],
      "metadata": {
        "id": "sE_mBPIXNNMl"
      }
    },
    {
      "cell_type": "code",
      "source": [
        "def exponent(N, P):\n",
        "  return N**P\n",
        "\n",
        "print(f\"Exponent of (5)^2: {exponent(5, 2)}\")\n",
        "\n",
        "print(f\"Exponent of (2)^5: {exponent(2, 5)}\")\n"
      ],
      "metadata": {
        "colab": {
          "base_uri": "https://localhost:8080/"
        },
        "id": "HLtYCqAQ6z0c",
        "outputId": "672feadb-99c6-4447-bb17-e6c75ae41668"
      },
      "execution_count": 30,
      "outputs": [
        {
          "output_type": "stream",
          "name": "stdout",
          "text": [
            "Exponent of (5)^2: 25\n",
            "Exponent of (2)^5: 32\n"
          ]
        }
      ]
    },
    {
      "cell_type": "markdown",
      "source": [
        "### QUESTION-5"
      ],
      "metadata": {
        "id": "4BMsZpd1NQ2A"
      }
    },
    {
      "cell_type": "code",
      "source": [
        "arr1 = [1, 4, 3, -5, -4, 8, 6]\n",
        "arr2 = [1, 4, 45, 6, 10, -8]\n",
        "\n",
        "def Recursion(arr, n):\n",
        "    if n == 1:\n",
        "        return arr[0]\n",
        "    else:\n",
        "        return max(arr[n-1], Recursion(arr, n-1))\n",
        "\n",
        "def Recursion_max(arr):\n",
        "    return Recursion(arr, len(arr))\n",
        "\n",
        "print(f\"Max element in arr1: {Recursion_max(arr1)}\")  \n",
        "\n",
        "print(f\"Max element in arr2: {Recursion_max(arr2)}\")  "
      ],
      "metadata": {
        "colab": {
          "base_uri": "https://localhost:8080/"
        },
        "id": "nuGg8AT-AcZ0",
        "outputId": "1867a1d6-e472-4400-cbf8-3b51a2f0ca3c"
      },
      "execution_count": 45,
      "outputs": [
        {
          "output_type": "stream",
          "name": "stdout",
          "text": [
            "Max element in arr1: 8\n",
            "Max element in arr2: 45\n"
          ]
        }
      ]
    },
    {
      "cell_type": "markdown",
      "source": [
        "### QUESTION-6"
      ],
      "metadata": {
        "id": "m9yZYV9vNUm3"
      }
    },
    {
      "cell_type": "code",
      "source": [
        "def find(a, d, N):\n",
        "    return a + (N - 1) * d\n",
        "\n",
        "print(f\"The 5th term of the series is : {find(2, 1, 5)}\")  \n",
        "print(f\"The 10th term of the series is: {find(5, 2, 10)}\")  \n"
      ],
      "metadata": {
        "colab": {
          "base_uri": "https://localhost:8080/"
        },
        "id": "w72434lkCHWG",
        "outputId": "c424bc41-a5f3-4113-e5d2-1e22d48bfc48"
      },
      "execution_count": 48,
      "outputs": [
        {
          "output_type": "stream",
          "name": "stdout",
          "text": [
            "The 5th term of the series is : 6\n",
            "The 10th term of the series is: 23\n"
          ]
        }
      ]
    },
    {
      "cell_type": "markdown",
      "source": [
        "### QUESTION-7"
      ],
      "metadata": {
        "id": "BzdEf5LNNY1H"
      }
    },
    {
      "cell_type": "code",
      "source": [
        "def permutations(str, left, right):\n",
        "    if left == right:\n",
        "        print(''.join(str))\n",
        "    else:\n",
        "        for i in range(left, right + 1):\n",
        "            str[left], str[i] = str[i], str[left]  \n",
        "            permutations(str, left + 1, right)\n",
        "            str[left], str[i]= str[i], str[left]  \n",
        "\n",
        "def All_Permutations(S):\n",
        "    n = len(S)\n",
        "    str = list(S)\n",
        "    permutations(str, 0, n - 1)\n",
        "\n",
        "print(f\"Permutation of ABC: {All_Permutations('ABC')}\")\n",
        "print(f\"Permutation of ABC: {All_Permutations('XY')}\")\n",
        "\n",
        "\n",
        "\n",
        "\n"
      ],
      "metadata": {
        "colab": {
          "base_uri": "https://localhost:8080/"
        },
        "id": "PJH4x7CCHKav",
        "outputId": "34551c73-c834-4840-9849-d8709afaa9ea"
      },
      "execution_count": 76,
      "outputs": [
        {
          "output_type": "stream",
          "name": "stdout",
          "text": [
            "ABC\n",
            "ACB\n",
            "BAC\n",
            "BCA\n",
            "CBA\n",
            "CAB\n",
            "Permutation of ABC: None\n",
            "XY\n",
            "YX\n",
            "Permutation of ABC: None\n"
          ]
        }
      ]
    },
    {
      "cell_type": "markdown",
      "source": [
        "### QUESTION-8"
      ],
      "metadata": {
        "id": "ueYey93kMvuL"
      }
    },
    {
      "cell_type": "code",
      "source": [
        "arr1 = [1, 2, 3, 4, 5]\n",
        "arr2 = [1, 6, 3]\n",
        "\n",
        "def product(arr):\n",
        "    product = 1\n",
        "    for num in arr:\n",
        "        product *= num\n",
        "    return product\n",
        "\n",
        "print(f\"Product of arr1: {product(arr1)}\")  \n",
        "\n",
        "print(f\"Product of arr2: {product(arr2)}\")  \n"
      ],
      "metadata": {
        "colab": {
          "base_uri": "https://localhost:8080/"
        },
        "id": "Q5BSxxYIJGip",
        "outputId": "fc47aec2-cb14-4576-c368-ba41a5032e84"
      },
      "execution_count": 75,
      "outputs": [
        {
          "output_type": "stream",
          "name": "stdout",
          "text": [
            "Product of arr1: 120\n",
            "Product of arr2: 18\n"
          ]
        }
      ]
    },
    {
      "cell_type": "code",
      "source": [],
      "metadata": {
        "id": "cgmPDMuuMfTU"
      },
      "execution_count": null,
      "outputs": []
    },
    {
      "cell_type": "markdown",
      "source": [],
      "metadata": {
        "id": "MACXs99mMvB8"
      }
    }
  ]
}